{
 "cells": [
  {
   "cell_type": "code",
   "execution_count": 1,
   "id": "d1848973-f2f5-4ef4-8a9a-f714d9c8ec43",
   "metadata": {},
   "outputs": [
    {
     "name": "stdout",
     "output_type": "stream",
     "text": [
      "1\n",
      "3\n",
      "5\n",
      "7\n",
      "9\n",
      "11\n",
      "13\n",
      "15\n",
      "17\n",
      "19\n",
      "21\n",
      "23\n"
     ]
    }
   ],
   "source": [
    "#Q1. Which keyword is used to create a function? Create a function to return a list of odd numbers in the range of 1 to 25.\n",
    "#Ans.: \"def\" keyword is used to ceate a function. \n",
    "for x in range(1,25):\n",
    "    if x%2 == 1:\n",
    "        print(x)"
   ]
  },
  {
   "cell_type": "code",
   "execution_count": 2,
   "id": "93a9107f-30ab-46a1-bdbf-b4fd2b3f4f3e",
   "metadata": {},
   "outputs": [
    {
     "name": "stdout",
     "output_type": "stream",
     "text": [
      "(1, 2, 3)\n",
      "6\n",
      "(3, 4, 5, 6)\n",
      "18\n",
      "()\n",
      "0\n",
      "(2, 3)\n",
      "5\n",
      "(-2, 7.83, -3, -4)\n",
      "-1.17\n"
     ]
    }
   ],
   "source": [
    "#Q2. Why *args and **kwargs is used in some functions? Create a function each for *args and **kwargs to demonstrate their use.\n",
    "#Ans. : You can use *args and **kwargs as arguments of a function when you are unsure about the number of arguments to pass in the functions.\n",
    "\n",
    "#Example: for *args\n",
    "def add_items(*args):\n",
    "    print(args)\n",
    "    result = sum(args)\n",
    "    print(result)\n",
    "    \n",
    "add_items(1, 2, 3)\n",
    "add_items(3, 4, 5, 6)\n",
    "add_items()\n",
    "add_items(2, 3)\n",
    "add_items(-2, 7.83, -3, -4)\n"
   ]
  },
  {
   "cell_type": "code",
   "execution_count": 18,
   "id": "8df9dba0-0739-4fff-b741-425efe02fc46",
   "metadata": {},
   "outputs": [
    {
     "name": "stdout",
     "output_type": "stream",
     "text": [
      "(1, 2, 3) {'k': 2, 'a': 3}\n",
      "6\n"
     ]
    }
   ],
   "source": [
    "#Example for **kwargs:\n",
    "def add_items(*args, **kwargs):\n",
    "    print(args, kwargs)\n",
    "    result = sum(args)\n",
    "    print(result)\n",
    "add_items(1, 2, 3, k=2 , a=3)"
   ]
  },
  {
   "cell_type": "code",
   "execution_count": 19,
   "id": "1d5cded2-706a-4980-85a2-481e41963bec",
   "metadata": {},
   "outputs": [
    {
     "name": "stdout",
     "output_type": "stream",
     "text": [
      "2\n"
     ]
    }
   ],
   "source": [
    "#Q3. What is an iterator in python? Name the method used to initialise the iterator object and the method used for iteration. Use these methods to print the first five elements of the given list [2, 4, 6, 8, 10, 12, 14, 16, 18, 20].\n",
    "#Ans. : An iterator in Python is an object that contains a countable number of elements that can be iterated upon. In simpler words, we can say that Iterators are objects that allow you to traverse through all the elements of a collection and return one element at a time. \n",
    "# define a iterable such as a list\n",
    "list1 = [2, 4, 6, 8, 10, 12, 14, 16, 18, 20]\n",
    "# get an iterator using iter()\n",
    "iter1 = list1.__iter__()\n",
    "#iertae the item using __next__method\n",
    "print(iter1.__next__())"
   ]
  },
  {
   "cell_type": "code",
   "execution_count": 20,
   "id": "581e49a6-b635-4219-8d70-1ca19975d9c1",
   "metadata": {},
   "outputs": [
    {
     "name": "stdout",
     "output_type": "stream",
     "text": [
      "4\n"
     ]
    }
   ],
   "source": [
    "print(iter1.__next__())"
   ]
  },
  {
   "cell_type": "code",
   "execution_count": 21,
   "id": "42382f26-2133-4728-905a-89ddf0e704fe",
   "metadata": {},
   "outputs": [
    {
     "name": "stdout",
     "output_type": "stream",
     "text": [
      "6\n"
     ]
    }
   ],
   "source": [
    "print(iter1.__next__())"
   ]
  },
  {
   "cell_type": "code",
   "execution_count": 22,
   "id": "39352ebc-ad7f-406b-9eff-21eb67ff7335",
   "metadata": {},
   "outputs": [
    {
     "name": "stdout",
     "output_type": "stream",
     "text": [
      "8\n"
     ]
    }
   ],
   "source": [
    "print(iter1.__next__())"
   ]
  },
  {
   "cell_type": "code",
   "execution_count": 23,
   "id": "1848aa3f-56b1-4680-9c4f-57b03545ec95",
   "metadata": {},
   "outputs": [
    {
     "name": "stdout",
     "output_type": "stream",
     "text": [
      "10\n"
     ]
    }
   ],
   "source": [
    "print(iter1.__next__())"
   ]
  },
  {
   "cell_type": "code",
   "execution_count": 24,
   "id": "d403b34e-3277-4533-9838-9a0d29f865a0",
   "metadata": {},
   "outputs": [],
   "source": [
    "#Q4. What is a generator function in python? Why yield keyword is used? Give an example of a generator function.\n",
    "#Ans. : Generator Function:  A Python generator function allows you to declare a function that behaves like an iterator, providing a faster and easier way to create iterators. They can be used on an abstract container of data to turn it into an iterable object like lists, dictionaries and strings.\n",
    "#Yield Keyword uses:\n",
    "#yield keyword is used to create a generator function. A type of function that is memory efficient and can be used like an iterator object. In layman terms, the yield keyword will turn any expression that is given with it into a generator object and return it to the caller.\n",
    "#Example for Generator function:\n",
    "def test_fib(n):\n",
    "    a,b = 0,1\n",
    "    for i in range(n):\n",
    "        yield a\n",
    "        a,b = b , a+b"
   ]
  },
  {
   "cell_type": "code",
   "execution_count": 26,
   "id": "6f91f000-c57d-4518-9888-89862f4ad5f7",
   "metadata": {},
   "outputs": [
    {
     "data": {
      "text/plain": [
       "<generator object test_fib at 0x7efdec3147b0>"
      ]
     },
     "execution_count": 26,
     "metadata": {},
     "output_type": "execute_result"
    }
   ],
   "source": [
    "test_fib(10)"
   ]
  },
  {
   "cell_type": "code",
   "execution_count": 27,
   "id": "186fd26c-6b8f-4509-9317-df2d897d6475",
   "metadata": {},
   "outputs": [
    {
     "name": "stdout",
     "output_type": "stream",
     "text": [
      "0\n",
      "1\n",
      "1\n",
      "2\n",
      "3\n",
      "5\n",
      "8\n",
      "13\n",
      "21\n",
      "34\n"
     ]
    }
   ],
   "source": [
    "for i in test_fib(10):\n",
    "    print(i)"
   ]
  },
  {
   "cell_type": "code",
   "execution_count": 28,
   "id": "cb713ade-d28d-4ff5-af4e-ca78f755ae1f",
   "metadata": {},
   "outputs": [
    {
     "name": "stdin",
     "output_type": "stream",
     "text": [
      "Input the starting number:  1\n",
      "Input the ending number:  20\n"
     ]
    },
    {
     "name": "stdout",
     "output_type": "stream",
     "text": [
      "Prime numbers between 1 and 20 are:\n",
      "2,3,5,7,11,13,17,19,"
     ]
    }
   ],
   "source": [
    "#Q5. Create a generator function for prime numbers less than 1000. Use the next() method to print the first 20 prime numbers.\n",
    "#Ans.: \n",
    "def is_prime_num(n) :\n",
    "    \n",
    "    if n < 2 :\n",
    "        return False\n",
    "    for i in range(2, int(n**0.5) + 1):\n",
    "        if n % i == 0:\n",
    "            return False\n",
    "    return True\n",
    "\n",
    "def prime_numbers(start, end):\n",
    "    \n",
    "    for num in range(start, end + 1):\n",
    "        if is_prime_num(num):\n",
    "            yield num\n",
    "            \n",
    "start = int(input(\"Input the starting number: \"))\n",
    "end = int(input(\"Input the ending number: \"))\n",
    "\n",
    "prime_gen = prime_numbers(start, end)\n",
    "\n",
    "print(\"Prime numbers between\", start, \"and\", end, \"are:\")\n",
    "for prime in prime_gen:\n",
    "    print(prime, end=\",\")"
   ]
  },
  {
   "cell_type": "code",
   "execution_count": 4,
   "id": "f0b5e07e-b5f0-477c-be20-8ad4b0fbaa7e",
   "metadata": {},
   "outputs": [
    {
     "name": "stdin",
     "output_type": "stream",
     "text": [
      "Enter the Fibonacci Number Range:  10\n"
     ]
    },
    {
     "name": "stdout",
     "output_type": "stream",
     "text": [
      "0 1 1 2 3 5 8 13 21 34 "
     ]
    }
   ],
   "source": [
    "#Q6. Write a python program to print the first 10 Fibonacci numbers using a while loop.\n",
    "#Ans.:\n",
    "\n",
    "num = int(input(\"Enter the Fibonacci Number Range: \"))\n",
    "n = 0\n",
    "a = 1\n",
    "Sum = 0\n",
    "i = 0\n",
    "\n",
    "while(i<num):\n",
    "    print(n, end = ' ')\n",
    "    Sum = Sum + n\n",
    "    Next = n + a\n",
    "    n = a\n",
    "    a = Next\n",
    "    i = i + 1\n",
    "    "
   ]
  },
  {
   "cell_type": "code",
   "execution_count": 1,
   "id": "38b5783c-b95b-4876-86a0-33f21960c376",
   "metadata": {},
   "outputs": [
    {
     "name": "stdout",
     "output_type": "stream",
     "text": [
      "['p', 'w', 's', 'k', 'i', 'l', 'l', 's']\n"
     ]
    }
   ],
   "source": [
    "#Q7. Write a List Comprehension to iterate through the given string: ‘pwskills’. Expected output: ['p', 'w', 's', 'k', 'i', 'l', 'l', 's']\n",
    "#Ans.:\n",
    "h_letters = [ letter for letter in 'pwskills' ]\n",
    "print( h_letters)"
   ]
  },
  {
   "cell_type": "code",
   "execution_count": 6,
   "id": "d96625a4-6031-4692-8b15-a0713b478d82",
   "metadata": {},
   "outputs": [
    {
     "name": "stdin",
     "output_type": "stream",
     "text": [
      "Enter a number: 1234321\n"
     ]
    },
    {
     "name": "stdout",
     "output_type": "stream",
     "text": [
      "The number is palindrome!\n"
     ]
    }
   ],
   "source": [
    "#Q8. Write a python program to check whether a given number is Palindrome or not using a while loop.\n",
    "#Ans.: \n",
    "num=int(input(\"Enter a number:\"))\n",
    "temp=num\n",
    "rev=0\n",
    "while(num>0):\n",
    "    dig=num%10\n",
    "    rev=rev*10+dig\n",
    "    num=num//10\n",
    "if(temp==rev):\n",
    "    print(\"The number is palindrome!\")\n",
    "else:\n",
    "    print(\"Not a palindrome!\")"
   ]
  },
  {
   "cell_type": "code",
   "execution_count": 7,
   "id": "5a40b821-618e-4e27-aa7d-ef87c59d5f9e",
   "metadata": {},
   "outputs": [
    {
     "name": "stdout",
     "output_type": "stream",
     "text": [
      "[1, 2, 3, 4, 5, 6, 7, 8, 9, 10, 11, 12, 13, 14, 15, 16, 17, 18, 19, 20, 21, 22, 23, 24, 25, 26, 27, 28, 29, 30, 31, 32, 33, 34, 35, 36, 37, 38, 39, 40, 41, 42, 43, 44, 45, 46, 47, 48, 49, 50, 51, 52, 53, 54, 55, 56, 57, 58, 59, 60, 61, 62, 63, 64, 65, 66, 67, 68, 69, 70, 71, 72, 73, 74, 75, 76, 77, 78, 79, 80, 81, 82, 83, 84, 85, 86, 87, 88, 89, 90, 91, 92, 93, 94, 95, 96, 97, 98, 99, 100]\n"
     ]
    }
   ],
   "source": [
    "#Q9. Write a code to print odd numbers from 1 to 100 using list comprehension.\n",
    "#Ans.: \n",
    "list = []\n",
    "for i in range(1,101):\n",
    "    list.append(i)\n",
    "print(list)"
   ]
  },
  {
   "cell_type": "code",
   "execution_count": 8,
   "id": "e69d8d32-7261-4801-82af-feed705e8a8c",
   "metadata": {},
   "outputs": [
    {
     "name": "stdout",
     "output_type": "stream",
     "text": [
      "1 3 5 7 9 11 13 15 17 19 21 23 25 27 29 31 33 35 37 39 41 43 45 47 49 51 53 55 57 59 61 63 65 67 69 71 73 75 77 79 81 83 85 87 89 91 93 95 97 99 "
     ]
    }
   ],
   "source": [
    "for num in list:\n",
    " \n",
    "    # checking condition\n",
    "    if num % 2 != 0:\n",
    "       print(num, end=\" \")"
   ]
  },
  {
   "cell_type": "code",
   "execution_count": null,
   "id": "dd2f4c5b-bf52-460d-9c94-6c81084d05ec",
   "metadata": {},
   "outputs": [],
   "source": []
  }
 ],
 "metadata": {
  "kernelspec": {
   "display_name": "Python 3 (ipykernel)",
   "language": "python",
   "name": "python3"
  },
  "language_info": {
   "codemirror_mode": {
    "name": "ipython",
    "version": 3
   },
   "file_extension": ".py",
   "mimetype": "text/x-python",
   "name": "python",
   "nbconvert_exporter": "python",
   "pygments_lexer": "ipython3",
   "version": "3.10.8"
  }
 },
 "nbformat": 4,
 "nbformat_minor": 5
}
